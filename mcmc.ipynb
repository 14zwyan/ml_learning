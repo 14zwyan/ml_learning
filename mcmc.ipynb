{
 "cells": [
  {
   "cell_type": "code",
   "execution_count": 5,
   "metadata": {},
   "outputs": [
    {
     "name": "stderr",
     "output_type": "stream",
     "text": [
      "/home/yanzhiwei/anaconda3/lib/python3.6/site-packages/matplotlib/axes/_axes.py:6462: UserWarning: The 'normed' kwarg is deprecated, and has been replaced by the 'density' kwarg.\n",
      "  warnings.warn(\"The 'normed' kwarg is deprecated, and has been \"\n"
     ]
    },
    {
     "data": {
      "image/png": "[encoded data removed]",
      "text/plain": [
       "<Figure size 576x288 with 1 Axes>"
      ]
     },
     "metadata": {},
     "output_type": "display_data"
    }
   ],
   "source": [
    "# -*- coding: utf-8 -*-\n",
    "\n",
    "import random\n",
    "import numpy as np\n",
    "import pylab as pl\n",
    "import scipy.special as ss\n",
    "\n",
    "# 完整的beta分布概率密度函数\n",
    "def beta(a, b, i):\n",
    "    e1 = ss.gamma(a + b)\n",
    "    e2 = ss.gamma(a)\n",
    "    e3 = ss.gamma(b)\n",
    "    e4 = i ** (a - 1)\n",
    "    e5 = (1 - i) ** (b - 1)\n",
    "    return (e1/(e2*e3)) * e4 * e5\n",
    "\n",
    "# beta分布概率密度函数去掉前面的常数项之后的形式\n",
    "def beta_s(a,b,i):\n",
    "    return i**(a-1)*(1-i)**(b-1)\n",
    "\n",
    "# mcmc模拟\n",
    "def beta_mcmc(N_hops,a,b):\n",
    "    states = []\n",
    "    cur = random.uniform(0,1) # 初始化状态\n",
    "    for i in range(0,N_hops):\n",
    "        states.append(cur)\n",
    "        next = random.uniform(0,1) #从原来的迁移矩阵P采样，这里假设P是一个基于均匀分布的迁移矩阵\n",
    "        #计算接受率，因为beta分布的常数项会抵消，所以用不带常数项的形式，能大幅提速。而且P是均匀分布，所以也相互抵消了\n",
    "        ap = min(beta_s(a,b,next)/beta_s(a,b,cur),1) \n",
    "        if random.uniform(0,1) < ap: #随机采样决定是否跳转\n",
    "            cur = next\n",
    "    return states[-10000:] #取最后的一部分状态，保证已经收敛\n",
    "\n",
    "#可视化\n",
    "def plot_beta(a, b):\n",
    "    Ly = []\n",
    "    Lx = []\n",
    "    i_list = np.mgrid[0:1:100j]\n",
    "    for i in i_list:\n",
    "        Lx.append(i)\n",
    "        Ly.append(beta(a, b, i))\n",
    "    pl.plot(Lx, Ly, label=\"Real Distribution: a=\"+str(a)+\", b=\"+str(b))\n",
    "    pl.hist(beta_mcmc(1000000,a,b),normed=True,bins=50, histtype='step',\n",
    "            label=\"Simulated_MCMC: a=\"+str(a)+\", b=\"+str(b))\n",
    "    pl.legend()\n",
    "    pl.show()\n",
    "\n",
    "pl.rcParams['figure.figsize'] = (8.0, 4.0)\n",
    "plot_beta(2, 5)\n"
   ]
  },
  {
   "cell_type": "code",
   "execution_count": 4,
   "metadata": {},
   "outputs": [],
   "source": [
    "pl.show()"
   ]
  },
  {
   "cell_type": "code",
   "execution_count": null,
   "metadata": {},
   "outputs": [],
   "source": []
  }
 ],
 "metadata": {
  "kernelspec": {
   "display_name": "Python 3",
   "language": "python",
   "name": "python3"
  },
  "language_info": {
   "codemirror_mode": {
    "name": "ipython",
    "version": 3
   },
   "file_extension": ".py",
   "mimetype": "text/x-python",
   "name": "python",
   "nbconvert_exporter": "python",
   "pygments_lexer": "ipython3",
   "version": "3.6.4"
  },
  "varInspector": {
   "cols": {
    "lenName": 16,
    "lenType": 16,
    "lenVar": 40
   },
   "kernels_config": {
    "python": {
     "delete_cmd_postfix": "",
     "delete_cmd_prefix": "del ",
     "library": "var_list.py",
     "varRefreshCmd": "print(var_dic_list())"
    },
    "r": {
     "delete_cmd_postfix": ") ",
     "delete_cmd_prefix": "rm(",
     "library": "var_list.r",
     "varRefreshCmd": "cat(var_dic_list()) "
    }
   },
   "types_to_exclude": [
    "module",
    "function",
    "builtin_function_or_method",
    "instance",
    "_Feature"
   ],
   "window_display": false
  }
 },
 "nbformat": 4,
 "nbformat_minor": 2
}
